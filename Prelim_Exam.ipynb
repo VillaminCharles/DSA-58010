{
  "nbformat": 4,
  "nbformat_minor": 0,
  "metadata": {
    "colab": {
      "provenance": [],
      "authorship_tag": "ABX9TyOrCQn0bvsAbdy6pTAVV9QA",
      "include_colab_link": true
    },
    "kernelspec": {
      "name": "python3",
      "display_name": "Python 3"
    },
    "language_info": {
      "name": "python"
    }
  },
  "cells": [
    {
      "cell_type": "markdown",
      "metadata": {
        "id": "view-in-github",
        "colab_type": "text"
      },
      "source": [
        "<a href=\"https://colab.research.google.com/github/VillaminCharles/DSA-58010/blob/main/Prelim_Exam.ipynb\" target=\"_parent\"><img src=\"https://colab.research.google.com/assets/colab-badge.svg\" alt=\"Open In Colab\"/></a>"
      ]
    },
    {
      "cell_type": "markdown",
      "source": [
        "Choose Array data structure\n",
        "\n",
        "Create a python program that creates the array list below and counts the no. of even numbers\n",
        " A = [1,2,3,4,5,6,7,8,9,10]\n"
      ],
      "metadata": {
        "id": "tJ9X4XK-l4jq"
      }
    },
    {
      "cell_type": "code",
      "source": [
        "A = [1, 2, 3, 4, 5, 6, 7, 8, 9, 10]\n",
        "\n",
        "even = 0\n",
        "\n",
        "for num in A:\n",
        "  if num % 2 == 0:\n",
        "    even += 1\n",
        "\n",
        "print(A)\n",
        "print('The number of even numbers in the list:', even)"
      ],
      "metadata": {
        "colab": {
          "base_uri": "https://localhost:8080/"
        },
        "id": "aDVSqf6YoF8L",
        "outputId": "5462bf66-50e4-4038-cd54-79960e0d2b3b"
      },
      "execution_count": 14,
      "outputs": [
        {
          "output_type": "stream",
          "name": "stdout",
          "text": [
            "[1, 2, 3, 4, 5, 6, 7, 8, 9, 10]\n",
            "The number of even numbers in the list: 5\n"
          ]
        }
      ]
    }
  ]
}