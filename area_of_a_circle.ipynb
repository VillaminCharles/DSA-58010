{
  "nbformat": 4,
  "nbformat_minor": 0,
  "metadata": {
    "colab": {
      "name": "area of a circle.ipynb",
      "provenance": [],
      "authorship_tag": "ABX9TyO/nZ1ii9Yb4fD015hq4ZGy",
      "include_colab_link": true
    },
    "kernelspec": {
      "name": "python3",
      "display_name": "Python 3"
    },
    "language_info": {
      "name": "python"
    }
  },
  "cells": [
    {
      "cell_type": "markdown",
      "metadata": {
        "id": "view-in-github",
        "colab_type": "text"
      },
      "source": [
        "<a href=\"https://colab.research.google.com/github/VillaminCharles/DSA-58010/blob/main/area_of_a_circle.ipynb\" target=\"_parent\"><img src=\"https://colab.research.google.com/assets/colab-badge.svg\" alt=\"Open In Colab\"/></a>"
      ]
    },
    {
      "cell_type": "markdown",
      "source": [
        "Program that computes the area of a circle using radius"
      ],
      "metadata": {
        "id": "XsA3YgJcV-VF"
      }
    },
    {
      "cell_type": "code",
      "source": [
        "r = float(input(\"Please Enter the radius of a Circle: \"))\n",
        "pi = 3.14\n",
        "area = pi * r * r\n",
        "print (\" The Area of a Circle is: \"+str(area))"
      ],
      "metadata": {
        "colab": {
          "base_uri": "https://localhost:8080/"
        },
        "id": "RTcxs7wXR_82",
        "outputId": "931a9343-9abb-4c4a-b2cb-3139e4bdd856"
      },
      "execution_count": 27,
      "outputs": [
        {
          "output_type": "stream",
          "name": "stdout",
          "text": [
            "Please Enter the radius of a Circle: 2.5\n",
            " The Area of a Circle is: 19.625\n"
          ]
        }
      ]
    },
    {
      "cell_type": "markdown",
      "source": [
        "Program that computes the area of a Circle using diameter"
      ],
      "metadata": {
        "id": "BzlraQQFdv5Z"
      }
    },
    {
      "cell_type": "code",
      "source": [
        "r = float(input(\"Please Enter the diameter of a Circle: \"))\n",
        "pi = 3.14\n",
        "area = pi * r**2 / 4\n",
        "print(\"Area of a Circle: \"+str(area))"
      ],
      "metadata": {
        "id": "PPMz6rXJZG1U",
        "colab": {
          "base_uri": "https://localhost:8080/"
        },
        "outputId": "47955b31-0383-4d23-b671-9e5da567a4dc"
      },
      "execution_count": 28,
      "outputs": [
        {
          "output_type": "stream",
          "name": "stdout",
          "text": [
            "Please Enter the diameter of a Circle: 5\n",
            "Area of a Circle: 19.625\n"
          ]
        }
      ]
    }
  ]
}