{
  "nbformat": 4,
  "nbformat_minor": 0,
  "metadata": {
    "colab": {
      "name": "area of a circle.ipynb",
      "provenance": [],
      "authorship_tag": "ABX9TyNag2+XLmAZzQ0S12+ePEFL",
      "include_colab_link": true
    },
    "kernelspec": {
      "name": "python3",
      "display_name": "Python 3"
    },
    "language_info": {
      "name": "python"
    }
  },
  "cells": [
    {
      "cell_type": "markdown",
      "metadata": {
        "id": "view-in-github",
        "colab_type": "text"
      },
      "source": [
        "<a href=\"https://colab.research.google.com/github/VillaminCharles/DSA-58010/blob/main/area_of_a_circle.ipynb\" target=\"_parent\"><img src=\"https://colab.research.google.com/assets/colab-badge.svg\" alt=\"Open In Colab\"/></a>"
      ]
    },
    {
      "cell_type": "markdown",
      "source": [
        "Program that computes the area of a circle"
      ],
      "metadata": {
        "id": "XsA3YgJcV-VF"
      }
    },
    {
      "cell_type": "code",
      "source": [
        "r = float(input(\"Please Enter the radius of a Circle: \"))\n",
        "PI = 3.14\n",
        "area = PI * r * r\n",
        "print (\" The Area of a Circle is: %.2F\" %area)"
      ],
      "metadata": {
        "colab": {
          "base_uri": "https://localhost:8080/"
        },
        "id": "RTcxs7wXR_82",
        "outputId": "2d8b53c9-bfb8-45a6-ba92-f998c307308d"
      },
      "execution_count": 13,
      "outputs": [
        {
          "output_type": "stream",
          "name": "stdout",
          "text": [
            "Please Enter the radius of a Circle: 14\n",
            " The Area of a Circle is: 615.44\n"
          ]
        }
      ]
    }
  ]
}