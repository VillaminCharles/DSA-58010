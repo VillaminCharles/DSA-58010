{
  "nbformat": 4,
  "nbformat_minor": 0,
  "metadata": {
    "colab": {
      "provenance": [],
      "authorship_tag": "ABX9TyPNueWb2cD6ZOWfIq01irDw",
      "include_colab_link": true
    },
    "kernelspec": {
      "name": "python3",
      "display_name": "Python 3"
    },
    "language_info": {
      "name": "python"
    }
  },
  "cells": [
    {
      "cell_type": "markdown",
      "metadata": {
        "id": "view-in-github",
        "colab_type": "text"
      },
      "source": [
        "<a href=\"https://colab.research.google.com/github/VillaminCharles/DSA-58010/blob/main/Python_Module.ipynb\" target=\"_parent\"><img src=\"https://colab.research.google.com/assets/colab-badge.svg\" alt=\"Open In Colab\"/></a>"
      ]
    },
    {
      "cell_type": "markdown",
      "source": [
        "Example 1"
      ],
      "metadata": {
        "id": "bXtzXsaf6DGz"
      }
    },
    {
      "cell_type": "code",
      "execution_count": 1,
      "metadata": {
        "colab": {
          "base_uri": "https://localhost:8080/"
        },
        "id": "ksZ1xfJ8y1Ah",
        "outputId": "44794dd7-73bc-47df-8446-bbd7e2644489"
      },
      "outputs": [
        {
          "output_type": "stream",
          "name": "stdout",
          "text": [
            "i\n",
            "f\n"
          ]
        }
      ],
      "source": [
        "import array\n",
        "array.typecodes #get all typecodes\n",
        "\n",
        "a=array.array('i',[1,2,3,4,5,6,7,8,9,10]) #Initializing array a\n",
        "b=array.array('f',[1.5,2.5,3.5,4.5,5.5,6.5,7.5,8.5,9.5,10.5]) # initialized the elements of b\n",
        "\n",
        "print(a.typecode)\n",
        "print(b.typecode)"
      ]
    },
    {
      "cell_type": "markdown",
      "source": [
        "Example 2. Create array elements of any array name to a float/decimal numbers\n",
        "\n",
        "\n",
        "\n",
        "\n"
      ],
      "metadata": {
        "id": "czfln_4k45ok"
      }
    },
    {
      "cell_type": "code",
      "source": [
        "a = array.array('f',[1,2,3,4,5,6,7,8,9,10])\n",
        "print(a)"
      ],
      "metadata": {
        "colab": {
          "base_uri": "https://localhost:8080/"
        },
        "id": "TNApOuAv46mw",
        "outputId": "6c24061f-c83f-4941-bd09-9290d459d3f4"
      },
      "execution_count": 2,
      "outputs": [
        {
          "output_type": "stream",
          "name": "stdout",
          "text": [
            "array('f', [1.0, 2.0, 3.0, 4.0, 5.0, 6.0, 7.0, 8.0, 9.0, 10.0])\n"
          ]
        }
      ]
    },
    {
      "cell_type": "markdown",
      "source": [
        "Example 3.\n",
        "\n"
      ],
      "metadata": {
        "id": "m7xQVbOW4-Xn"
      }
    },
    {
      "cell_type": "code",
      "source": [
        "import array                        #import array from array module\n",
        "a = array.array('i', [4, 5, 6, 7])  #initialiazing array a\n",
        "b = array.array('f', [ 1, 2, 3])\n",
        "\n",
        "a.insert(1, 2)                      #insert element: 2 to index 1\n",
        "print(a)\n",
        "a.insert(-1, 0)                     #insert element: 0 to index -1\n",
        "print (a)\n",
        "a.insert(6, 8)                      #insert element: -1 to index 10\n",
        "print(a)                            #append the last element of the array\n",
        "\n",
        "print(b)\n",
        "b[0] = 5\n",
        "print(b)\n",
        "b[-1] = 9\n",
        "print(b)"
      ],
      "metadata": {
        "colab": {
          "base_uri": "https://localhost:8080/"
        },
        "id": "-0bpipcW5AL6",
        "outputId": "fa9ea955-3787-4994-8d59-59806db5da8d"
      },
      "execution_count": 4,
      "outputs": [
        {
          "output_type": "stream",
          "name": "stdout",
          "text": [
            "array('i', [4, 2, 5, 6, 7])\n",
            "array('i', [4, 2, 5, 6, 0, 7])\n",
            "array('i', [4, 2, 5, 6, 0, 7, 8])\n",
            "array('f', [1.0, 2.0, 3.0])\n",
            "array('f', [5.0, 2.0, 3.0])\n",
            "array('f', [5.0, 2.0, 9.0])\n"
          ]
        }
      ]
    },
    {
      "cell_type": "markdown",
      "source": [
        "Node"
      ],
      "metadata": {
        "id": "YP1x2VbFGWgl"
      }
    },
    {
      "cell_type": "code",
      "source": [
        "#function that creates node object\n",
        "class Node:\n",
        "\n",
        "  def __init__(self,data):\n",
        "    self.data= data      #assign data\n",
        "    self.next= None      #initialize as null \n",
        "\n",
        "#function that creates Linked-list object\n",
        "\n",
        "class LinkedList:\n",
        "  def __init__(self):\n",
        "    self.head = None    #initialize the head of the node\n",
        "  def printlist(self):\n",
        "    temp=self.head\n",
        "    while(temp):\n",
        "      print(temp.data)\n",
        "      temp=temp.next\n",
        "\n",
        "\n",
        "list = LinkedList()\n",
        "list.head = Node(1)\n",
        "second = Node(2)\n",
        "third= Node(3)\n",
        "\n",
        "list.head.next = second\n",
        "second.next = third\n",
        "\n",
        "\n",
        "list.printlist()\n",
        "\n"
      ],
      "metadata": {
        "colab": {
          "base_uri": "https://localhost:8080/"
        },
        "id": "l14O4rM8GYJu",
        "outputId": "84476283-b8e4-4356-9f4e-d43e502e5fc5"
      },
      "execution_count": 14,
      "outputs": [
        {
          "output_type": "stream",
          "name": "stdout",
          "text": [
            "1\n",
            "2\n",
            "3\n"
          ]
        }
      ]
    },
    {
      "cell_type": "markdown",
      "source": [],
      "metadata": {
        "id": "26x3Q6_VGWaa"
      }
    }
  ]
}