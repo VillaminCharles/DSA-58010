{
  "nbformat": 4,
  "nbformat_minor": 0,
  "metadata": {
    "colab": {
      "name": "Practice Problem.ipynb",
      "provenance": [],
      "authorship_tag": "ABX9TyOH8jXXiT4nK6HMOP/UHlwl",
      "include_colab_link": true
    },
    "kernelspec": {
      "name": "python3",
      "display_name": "Python 3"
    },
    "language_info": {
      "name": "python"
    }
  },
  "cells": [
    {
      "cell_type": "markdown",
      "metadata": {
        "id": "view-in-github",
        "colab_type": "text"
      },
      "source": [
        "<a href=\"https://colab.research.google.com/github/VillaminCharles/DSA-58010/blob/main/Practice_Problem.ipynb\" target=\"_parent\"><img src=\"https://colab.research.google.com/assets/colab-badge.svg\" alt=\"Open In Colab\"/></a>"
      ]
    },
    {
      "cell_type": "markdown",
      "source": [
        "Create a Program that will Compute the sum of even numbers in the list "
      ],
      "metadata": {
        "id": "tQEhJYuTnk1Z"
      }
    },
    {
      "cell_type": "code",
      "source": [
        "n = int(input(\"Enter number of test scores: \"))\n",
        "test_scores = [0]*n\n",
        "even = 0\n",
        "\n",
        "for t in range(n):\n",
        "    test_scores[t] = int(input(\"Enter test score: \"))\n",
        "\n",
        "print(\"Scores in the list are: \", test_scores)\n",
        "\n",
        "for t in range(n):\n",
        "\n",
        "    if test_scores[t] % 2 == 0:\n",
        "\n",
        "        even = even+test_scores[t]\n",
        "\n",
        "print(\"The sum of all even score are: \", even)"
      ],
      "metadata": {
        "colab": {
          "base_uri": "https://localhost:8080/"
        },
        "id": "3xpPngB0hZAV",
        "outputId": "00befb98-02c9-4421-a384-5fab2167915e"
      },
      "execution_count": 14,
      "outputs": [
        {
          "output_type": "stream",
          "name": "stdout",
          "text": [
            "Enter number of test scores: 6\n",
            "Enter test score: 26\n",
            "Enter test score: 49\n",
            "Enter test score: 98\n",
            "Enter test score: 87\n",
            "Enter test score: 62\n",
            "Enter test score: 75\n",
            "Scores in the list are:  [26, 49, 98, 87, 62, 75]\n",
            "The sum of all even score are:  186\n"
          ]
        }
      ]
    }
  ]
}