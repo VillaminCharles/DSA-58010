{
  "nbformat": 4,
  "nbformat_minor": 0,
  "metadata": {
    "colab": {
      "provenance": [],
      "authorship_tag": "ABX9TyPePdN9ZVMYR807PSc8iwJC",
      "include_colab_link": true
    },
    "kernelspec": {
      "name": "python3",
      "display_name": "Python 3"
    },
    "language_info": {
      "name": "python"
    }
  },
  "cells": [
    {
      "cell_type": "markdown",
      "metadata": {
        "id": "view-in-github",
        "colab_type": "text"
      },
      "source": [
        "<a href=\"https://colab.research.google.com/github/VillaminCharles/DSA-58010/blob/main/Activity_2.ipynb\" target=\"_parent\"><img src=\"https://colab.research.google.com/assets/colab-badge.svg\" alt=\"Open In Colab\"/></a>"
      ]
    },
    {
      "cell_type": "markdown",
      "source": [
        "Write a Python program to create a singly linked list of prime numbers less than 20. By iterating through the list, display all the prime numbers, the head, and the tail of the list. (using Google Colab) "
      ],
      "metadata": {
        "id": "tRyiZrFCMFc6"
      }
    },
    {
      "cell_type": "code",
      "source": [
        "class Node:\n",
        "  def __init__(self, data=None):\n",
        "    self.data = data\n",
        "    self.next = None\n",
        "\n",
        "class singly_linked_list:\n",
        "  def __init__(self):\n",
        "    self.head = None\n",
        "    self.tail = None\n",
        "    self.count = 0\n",
        "  def iterate_item(self):\n",
        "        current_item = self.head\n",
        "        while current_item:\n",
        "            val = current_item.data\n",
        "            current_item = current_item.next\n",
        "            yield val\n",
        "  def append_item(self, data):\n",
        "        node = Node(data)\n",
        "        if self.tail:\n",
        "            self.tail.next = node\n",
        "            self.tail = node\n",
        "        else:\n",
        "            self.head = node\n",
        "            self.tail = node\n",
        "        self.count += 1\n",
        "items = singly_linked_list()\n",
        "items.append_item('1')\n",
        "items.append_item('2')\n",
        "items.append_item('3')\n",
        "items.append_item('4')\n",
        "items.append_item('5')\n",
        "items.append_item('6')\n",
        "items.append_item('7')\n",
        "items.append_item('8')\n",
        "items.append_item('9')\n",
        "items.append_item('10')\n",
        "items.append_item('11')\n",
        "items.append_item('12')\n",
        "items.append_item('13')\n",
        "items.append_item('14')\n",
        "items.append_item('15')\n",
        "items.append_item('16')\n",
        "items.append_item('17')\n",
        "items.append_item('18')\n",
        "items.append_item('19')\n",
        "items.append_item('20')\n",
        "for val in items.iterate_item():\n",
        " print(val)\n",
        "print(\"head of prime numbers: \",items.head.data)\n",
        "print(\"tail of prime numbers: \",items.tail.data)"
      ],
      "metadata": {
        "colab": {
          "base_uri": "https://localhost:8080/"
        },
        "id": "Ns9MtTCoPVYP",
        "outputId": "7f0492f3-645a-40e4-8006-8654bbd4df56"
      },
      "execution_count": 9,
      "outputs": [
        {
          "output_type": "stream",
          "name": "stdout",
          "text": [
            "1\n",
            "2\n",
            "3\n",
            "4\n",
            "5\n",
            "6\n",
            "7\n",
            "8\n",
            "9\n",
            "10\n",
            "11\n",
            "12\n",
            "13\n",
            "14\n",
            "15\n",
            "16\n",
            "17\n",
            "18\n",
            "19\n",
            "20\n",
            "head of prime numbers:  1\n",
            "tail of prime numbers:  20\n"
          ]
        }
      ]
    }
  ]
}