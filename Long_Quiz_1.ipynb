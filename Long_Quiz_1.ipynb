{
  "nbformat": 4,
  "nbformat_minor": 0,
  "metadata": {
    "colab": {
      "provenance": [],
      "authorship_tag": "ABX9TyO5TVGDdWMS9ehL19i9yGQU",
      "include_colab_link": true
    },
    "kernelspec": {
      "name": "python3",
      "display_name": "Python 3"
    },
    "language_info": {
      "name": "python"
    }
  },
  "cells": [
    {
      "cell_type": "markdown",
      "metadata": {
        "id": "view-in-github",
        "colab_type": "text"
      },
      "source": [
        "<a href=\"https://colab.research.google.com/github/VillaminCharles/DSA-58010/blob/main/Long_Quiz_1.ipynb\" target=\"_parent\"><img src=\"https://colab.research.google.com/assets/colab-badge.svg\" alt=\"Open In Colab\"/></a>"
      ]
    },
    {
      "cell_type": "markdown",
      "source": [
        "1) Choose either Array or Linked-List data structure\n",
        "\n",
        "2) Create a python program that appends each character of your full name and displays each character in reverse order (in Colab)\n",
        "\n",
        "3) Save your program as \"Long Quiz 1\" to your GitHub\n",
        "\n",
        "4) Send the link address of GitHub to the Practical Laboratory folder (BlackBoard)"
      ],
      "metadata": {
        "id": "NglXfiYddkzl"
      }
    },
    {
      "cell_type": "code",
      "source": [
        "FullName = []\n",
        "FullName.append ('C')\n",
        "FullName.append ('h')\n",
        "FullName.append ('a')\n",
        "FullName.append ('r')\n",
        "FullName.append ('l')\n",
        "FullName.append ('e')\n",
        "FullName.append ('s')\n",
        "FullName.append ('I')\n",
        "FullName.append ('a')\n",
        "FullName.append ('n')\n",
        "FullName.append ('B')\n",
        "FullName.append ('r')\n",
        "FullName.append ('a')\n",
        "FullName.append ('g')\n",
        "FullName.append ('a')\n",
        "FullName.append ('V')\n",
        "FullName.append ('i')\n",
        "FullName.append ('l')\n",
        "FullName.append ('l')\n",
        "FullName.append ('a')\n",
        "FullName.append ('m')\n",
        "FullName.append ('i')\n",
        "FullName.append ('n')\n",
        "\n",
        "print(FullName)\n",
        "FullName.reverse()\n",
        "print(FullName)\n"
      ],
      "metadata": {
        "colab": {
          "base_uri": "https://localhost:8080/"
        },
        "id": "Lp2Qo_9Udp82",
        "outputId": "ee60fcaf-a1c4-466c-a346-9c9ecf3c05b7"
      },
      "execution_count": 16,
      "outputs": [
        {
          "output_type": "stream",
          "name": "stdout",
          "text": [
            "['C', 'h', 'a', 'r', 'l', 'e', 's', 'I', 'a', 'n', 'B', 'r', 'a', 'g', 'a', 'V', 'i', 'l', 'l', 'a', 'm', 'i', 'n']\n",
            "['n', 'i', 'm', 'a', 'l', 'l', 'i', 'V', 'a', 'g', 'a', 'r', 'B', 'n', 'a', 'I', 's', 'e', 'l', 'r', 'a', 'h', 'C']\n"
          ]
        }
      ]
    }
  ]
}