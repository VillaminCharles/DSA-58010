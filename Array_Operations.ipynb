{
  "nbformat": 4,
  "nbformat_minor": 0,
  "metadata": {
    "colab": {
      "name": "Array Operations.ipynb",
      "provenance": [],
      "authorship_tag": "ABX9TyNADVc8jYtMNXa/DfjF7b0I",
      "include_colab_link": true
    },
    "kernelspec": {
      "name": "python3",
      "display_name": "Python 3"
    },
    "language_info": {
      "name": "python"
    }
  },
  "cells": [
    {
      "cell_type": "markdown",
      "metadata": {
        "id": "view-in-github",
        "colab_type": "text"
      },
      "source": [
        "<a href=\"https://colab.research.google.com/github/VillaminCharles/DSA-58010/blob/main/Array_Operations.ipynb\" target=\"_parent\"><img src=\"https://colab.research.google.com/assets/colab-badge.svg\" alt=\"Open In Colab\"/></a>"
      ]
    },
    {
      "cell_type": "markdown",
      "source": [
        "Accessing the Elements in the Array"
      ],
      "metadata": {
        "id": "ynsAP3926H0v"
      }
    },
    {
      "cell_type": "code",
      "source": [
        "animals = ['cat','dog','fish']\n",
        "x = animals[0]\n",
        "print(x)"
      ],
      "metadata": {
        "colab": {
          "base_uri": "https://localhost:8080/"
        },
        "id": "0DcydtIo6JpS",
        "outputId": "5b0b2d96-78df-4c49-cdb4-58b2c4181f76"
      },
      "execution_count": null,
      "outputs": [
        {
          "output_type": "stream",
          "name": "stdout",
          "text": [
            "cat\n"
          ]
        }
      ]
    },
    {
      "cell_type": "code",
      "source": [
        "#Create an array of number elements pertaining to animals\n",
        "animals = ['cat','dog','fish']\n",
        "for x in animals:\n",
        "  print(x)\n"
      ],
      "metadata": {
        "colab": {
          "base_uri": "https://localhost:8080/"
        },
        "id": "irTdcwGA-yn9",
        "outputId": "a45eabf0-c652-40be-c2d0-a95bbb81c6f9"
      },
      "execution_count": null,
      "outputs": [
        {
          "output_type": "stream",
          "name": "stdout",
          "text": [
            "cat\n",
            "dog\n",
            "fish\n"
          ]
        }
      ]
    },
    {
      "cell_type": "code",
      "source": [
        "#Create an array of number elements \n",
        "\n",
        "num =[1,2,3]\n",
        "\n",
        "print(num)"
      ],
      "metadata": {
        "colab": {
          "base_uri": "https://localhost:8080/"
        },
        "id": "cxNGJI9-8SUm",
        "outputId": "6ed2c63f-4f7a-42f4-e2bb-4b4f4d544ad0"
      },
      "execution_count": null,
      "outputs": [
        {
          "output_type": "stream",
          "name": "stdout",
          "text": [
            "[1, 2, 3]\n"
          ]
        }
      ]
    },
    {
      "cell_type": "code",
      "source": [
        "import numpy as np \n",
        "number = np.array([[1,2],[3,4]])  #2x2 matrix\n",
        "print(number)"
      ],
      "metadata": {
        "colab": {
          "base_uri": "https://localhost:8080/"
        },
        "id": "KMQYjCBu-Hck",
        "outputId": "82c038a0-7950-4d92-9154-8192e7abaa96"
      },
      "execution_count": null,
      "outputs": [
        {
          "output_type": "stream",
          "name": "stdout",
          "text": [
            "[[1 2]\n",
            " [3 4]]\n"
          ]
        }
      ]
    },
    {
      "cell_type": "markdown",
      "source": [
        "Modifying the Elements in the Array"
      ],
      "metadata": {
        "id": "57Bg04mV62S3"
      }
    },
    {
      "cell_type": "code",
      "source": [
        "#Modifying Array Elements\n",
        "animals = [\"dog\",\"cat\",\"fish\"]\n",
        "animals[2] = \"monkey\"\n",
        "print(animals)"
      ],
      "metadata": {
        "colab": {
          "base_uri": "https://localhost:8080/"
        },
        "id": "6SUPxLU6GSFd",
        "outputId": "9ee6086b-adc4-4c3c-8b6b-f545c2ac3ff9"
      },
      "execution_count": 34,
      "outputs": [
        {
          "output_type": "stream",
          "name": "stdout",
          "text": [
            "['dog', 'cat', 'monkey']\n"
          ]
        }
      ]
    },
    {
      "cell_type": "markdown",
      "source": [
        "Adding Elements in the Array\n",
        "\n"
      ],
      "metadata": {
        "id": "EmjVrFrj7mMx"
      }
    },
    {
      "cell_type": "code",
      "source": [
        "#inserting array elements\n",
        "animals = ['cat','dog','fish']\n",
        "animals.append('monkey')\n",
        "print(animals)"
      ],
      "metadata": {
        "colab": {
          "base_uri": "https://localhost:8080/"
        },
        "id": "iDYeFdPg7qnW",
        "outputId": "cf3372ac-77cb-45a7-cca5-82a3bdd387ee"
      },
      "execution_count": null,
      "outputs": [
        {
          "output_type": "stream",
          "name": "stdout",
          "text": [
            "['cat', 'dog', 'fish', 'monkey']\n"
          ]
        }
      ]
    },
    {
      "cell_type": "markdown",
      "source": [
        "Removing an Element in the Array"
      ],
      "metadata": {
        "id": "4dAWj1CZ7twT"
      }
    },
    {
      "cell_type": "code",
      "source": [
        "#Removing Array Elements\n",
        "animals = ['cat','dog','fish']\n",
        "animals.pop(1)\n",
        "animals.pop(0)\n",
        "print(animals)"
      ],
      "metadata": {
        "colab": {
          "base_uri": "https://localhost:8080/"
        },
        "id": "MhNmfVxi7yaI",
        "outputId": "2ce0bf32-b6ed-476b-d09f-9be1ae2a5b16"
      },
      "execution_count": null,
      "outputs": [
        {
          "output_type": "stream",
          "name": "stdout",
          "text": [
            "['fish']\n"
          ]
        }
      ]
    },
    {
      "cell_type": "markdown",
      "source": [
        "Looping array Elements"
      ],
      "metadata": {
        "id": "WFTiJiQ87bNn"
      }
    },
    {
      "cell_type": "code",
      "source": [
        "animals = ['dog','cat','fish']\n",
        "for x in animals:\n",
        "  print(x)\n",
        "  if x=='cat':\n",
        "    break\n"
      ],
      "metadata": {
        "colab": {
          "base_uri": "https://localhost:8080/"
        },
        "id": "gnCvUuNz7gsr",
        "outputId": "46b85aa5-cfd7-4c34-93df-78a464b4f614"
      },
      "execution_count": 32,
      "outputs": [
        {
          "output_type": "stream",
          "name": "stdout",
          "text": [
            "dog\n",
            "cat\n"
          ]
        }
      ]
    },
    {
      "cell_type": "markdown",
      "source": [
        "Length of an Array"
      ],
      "metadata": {
        "id": "uj44d1yKB59n"
      }
    },
    {
      "cell_type": "code",
      "source": [
        "animals = [\"cat\", \"dog\", \"fish\"]\n",
        "for x in animals:\n",
        "  x = len(animals)\n",
        "  print (x)"
      ],
      "metadata": {
        "colab": {
          "base_uri": "https://localhost:8080/"
        },
        "id": "08Kd8IBZB8po",
        "outputId": "19d23112-4586-4abe-bbf7-5e042e0cb1ee"
      },
      "execution_count": 33,
      "outputs": [
        {
          "output_type": "stream",
          "name": "stdout",
          "text": [
            "3\n",
            "3\n",
            "3\n"
          ]
        }
      ]
    },
    {
      "cell_type": "markdown",
      "source": [
        "  "
      ],
      "metadata": {
        "id": "hNKdw7s5E1Fr"
      }
    }
  ]
}